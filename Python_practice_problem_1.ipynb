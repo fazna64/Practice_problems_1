{
  "nbformat": 4,
  "nbformat_minor": 0,
  "metadata": {
    "colab": {
      "provenance": []
    },
    "kernelspec": {
      "name": "python3",
      "display_name": "Python 3"
    },
    "language_info": {
      "name": "python"
    }
  },
  "cells": [
    {
      "cell_type": "markdown",
      "source": [
        "**1.Write a Python program which accepts the radius of a circle from the user\n",
        "and compute the area.**\n"
      ],
      "metadata": {
        "id": "fsQ1AWdHz5fo"
      }
    },
    {
      "cell_type": "code",
      "source": [
        "import math\n",
        "math.pi\n",
        "radius=int(input(\"Enter the radius:\"))\n",
        "area=math.pi*radius**2\n",
        "print(\"Area of circle\",area)\n"
      ],
      "metadata": {
        "colab": {
          "base_uri": "https://localhost:8080/"
        },
        "id": "WCwEGhqIz8gw",
        "outputId": "0cd4bb6b-5a14-4613-f2d9-ce12601f9e5c"
      },
      "execution_count": null,
      "outputs": [
        {
          "output_type": "stream",
          "name": "stdout",
          "text": [
            "Enter the radius:3\n",
            "Area of circle 28.274333882308138\n"
          ]
        }
      ]
    },
    {
      "cell_type": "markdown",
      "source": [
        "**2.Write a Python Program to accept the details of a student like name, roll\n",
        "number and mark and display it.**\n"
      ],
      "metadata": {
        "id": "9UzbUy5b108n"
      }
    },
    {
      "cell_type": "code",
      "source": [
        "name=input(\"Enter the name:\")\n",
        "roll_num=input(\"Enter the roll number:\")\n",
        "mark=input(\"Enter the mark:\")\n",
        "print(\"Name:\",name)\n",
        "print(\"Roll number:\",roll_num)\n",
        "print(\"Mark:\",mark)"
      ],
      "metadata": {
        "colab": {
          "base_uri": "https://localhost:8080/"
        },
        "id": "HjmTh8dz2DSF",
        "outputId": "106349e1-a91d-4872-e2fd-e38beefb1a92"
      },
      "execution_count": null,
      "outputs": [
        {
          "output_type": "stream",
          "name": "stdout",
          "text": [
            "Enter the name:Meera\n",
            "Enter the roll number:12\n",
            "Enter the mark:75\n",
            "Name: Meera\n",
            "Roll number: 12\n",
            "Mark: 75\n"
          ]
        }
      ]
    },
    {
      "cell_type": "markdown",
      "source": [
        "**3.Write a Python program to get the largest number from a list.**\n"
      ],
      "metadata": {
        "id": "t5ouW3su4pi9"
      }
    },
    {
      "cell_type": "code",
      "source": [
        "list=[ 12, 3, 47, 10,32]\n",
        "max=0\n",
        "i=0\n",
        "for i in list:\n",
        "  if i>max:\n",
        "    max=i\n",
        "\n",
        "print(max,\"is the largest number\")"
      ],
      "metadata": {
        "colab": {
          "base_uri": "https://localhost:8080/"
        },
        "id": "FGGy0eq-4wun",
        "outputId": "58aac9d9-9f39-4c05-d7fe-0ba0ad18b91a"
      },
      "execution_count": null,
      "outputs": [
        {
          "output_type": "stream",
          "name": "stdout",
          "text": [
            "47 is the largest number\n"
          ]
        }
      ]
    },
    {
      "cell_type": "markdown",
      "source": [
        "**4. Given a range of first 10 numbers, write a Python program to iterate from\n",
        "start number to the end number and print the sum of the current number\n",
        "and previous number.**"
      ],
      "metadata": {
        "id": "xNgQbpSa62v4"
      }
    },
    {
      "cell_type": "code",
      "source": [
        "previous_num=0\n",
        "for i in range(0,10+1):\n",
        "  sum=i+previous_num\n",
        "  print(\"Current number:\",i,\"Prevoius number:\",previous_num,\"Sum:\",sum)\n",
        "  previous_num=i"
      ],
      "metadata": {
        "colab": {
          "base_uri": "https://localhost:8080/"
        },
        "id": "eLaPs2cMtmGg",
        "outputId": "4cb1d562-2fd6-432a-b607-a8085b6efc42"
      },
      "execution_count": null,
      "outputs": [
        {
          "output_type": "stream",
          "name": "stdout",
          "text": [
            "Current number: 0 Prevoius number: 0 Sum: 0\n",
            "Current number: 1 Prevoius number: 0 Sum: 1\n",
            "Current number: 2 Prevoius number: 1 Sum: 3\n",
            "Current number: 3 Prevoius number: 2 Sum: 5\n",
            "Current number: 4 Prevoius number: 3 Sum: 7\n",
            "Current number: 5 Prevoius number: 4 Sum: 9\n",
            "Current number: 6 Prevoius number: 5 Sum: 11\n",
            "Current number: 7 Prevoius number: 6 Sum: 13\n",
            "Current number: 8 Prevoius number: 7 Sum: 15\n",
            "Current number: 9 Prevoius number: 8 Sum: 17\n",
            "Current number: 10 Prevoius number: 9 Sum: 19\n"
          ]
        }
      ]
    },
    {
      "cell_type": "markdown",
      "source": [
        "**5. Write a Python program to print only those numbers which are divisible\n",
        "of 5.**"
      ],
      "metadata": {
        "id": "CbAxId8wurHH"
      }
    },
    {
      "cell_type": "code",
      "source": [],
      "metadata": {
        "id": "0xAVdgImKbQS"
      },
      "execution_count": null,
      "outputs": []
    },
    {
      "cell_type": "code",
      "source": [
        "for i in range(1,20):\n",
        "  if i%5==0:\n",
        "    print(i)\n",
        "\n"
      ],
      "metadata": {
        "colab": {
          "base_uri": "https://localhost:8080/"
        },
        "id": "XKzOAtL0uwQu",
        "outputId": "8bb230b6-d95b-479f-9e7e-364500f0e69b"
      },
      "execution_count": null,
      "outputs": [
        {
          "output_type": "stream",
          "name": "stdout",
          "text": [
            "5\n",
            "10\n",
            "15\n"
          ]
        }
      ]
    },
    {
      "cell_type": "markdown",
      "source": [
        "**6. Write a Python program to check whether a number is prime or not.**"
      ],
      "metadata": {
        "id": "IXR3t5RO2Cnk"
      }
    },
    {
      "cell_type": "code",
      "source": [
        "num=int(input(\"Enter the number:\"))\n",
        "for i in range(2,num//2+1):\n",
        "  if num%i==0:\n",
        "    print(num,\"is not prime\")\n",
        "    break\n",
        "else:\n",
        "  print(num,\"is prime\")"
      ],
      "metadata": {
        "colab": {
          "base_uri": "https://localhost:8080/"
        },
        "id": "EZ5w5NzF2Kn7",
        "outputId": "6d8cc94e-fe41-4925-eb01-e1f4f8b8924d"
      },
      "execution_count": null,
      "outputs": [
        {
          "output_type": "stream",
          "name": "stdout",
          "text": [
            "Enter the number:2\n",
            "2 is prime\n"
          ]
        }
      ]
    },
    {
      "cell_type": "markdown",
      "source": [
        "**7. Write a Python program to reverse a list using for loop**"
      ],
      "metadata": {
        "id": "NhvMfhEF69im"
      }
    },
    {
      "cell_type": "code",
      "source": [
        "list=[22,15,20,45,30]\n",
        "reversed_list=[]\n",
        "for i in range(len(list)-1,-1,-1):\n",
        "  reversed_list.append(list[i])\n",
        "\n",
        "print(reversed_list)"
      ],
      "metadata": {
        "colab": {
          "base_uri": "https://localhost:8080/"
        },
        "id": "7h6-j00o7HxF",
        "outputId": "4f1583dd-c819-4ea9-9946-199692003a7c"
      },
      "execution_count": null,
      "outputs": [
        {
          "output_type": "stream",
          "name": "stdout",
          "text": [
            "[30, 45, 20, 15, 22]\n"
          ]
        }
      ]
    },
    {
      "cell_type": "markdown",
      "source": [
        "**8. Write a Python program to print the following pattern.**\n"
      ],
      "metadata": {
        "id": "9hVuUTR6BuXw"
      }
    },
    {
      "cell_type": "code",
      "source": [
        "h=int(input(\"Enter the number of rows:\"))\n",
        "for i in range(1,h+1):\n",
        "  print(\"*\"*i)"
      ],
      "metadata": {
        "colab": {
          "base_uri": "https://localhost:8080/"
        },
        "id": "-SZjqnltB2O1",
        "outputId": "540e9793-bce8-4244-8df9-3a0f5cccc86d"
      },
      "execution_count": null,
      "outputs": [
        {
          "output_type": "stream",
          "name": "stdout",
          "text": [
            "Enter the number of rows:4\n",
            "*\n",
            "**\n",
            "***\n",
            "****\n"
          ]
        }
      ]
    },
    {
      "cell_type": "markdown",
      "source": [
        "**9. Write a Python program to find the maximum of three numbers.**"
      ],
      "metadata": {
        "id": "qYoNFnTxDMCb"
      }
    },
    {
      "cell_type": "code",
      "source": [
        "num1,num2,num3=26,49,55\n",
        "if num1>num2 and num1>num3:\n",
        "  print(\"Largest number is\",num1)\n",
        "\n",
        "elif num2>num1 and num2>num3:\n",
        "  print(\"Largest number is\",num2)\n",
        "\n",
        "else:\n",
        "  print(\"Largest number is\",num3)\n"
      ],
      "metadata": {
        "colab": {
          "base_uri": "https://localhost:8080/"
        },
        "id": "qpTEnf1XDTOi",
        "outputId": "a1ad5c75-3cb1-42c7-aaaf-b2f6efdf92e7"
      },
      "execution_count": null,
      "outputs": [
        {
          "output_type": "stream",
          "name": "stdout",
          "text": [
            "Largest number is 55\n"
          ]
        }
      ]
    },
    {
      "cell_type": "markdown",
      "source": [
        "**10. Write a Python program to construct the following pattern, using a\n",
        "nested for loop.**"
      ],
      "metadata": {
        "id": "AeySKOEZEySF"
      }
    },
    {
      "cell_type": "code",
      "source": [
        "h=int(input(\"Enter the number of rows:\"))\n",
        "for i in range(1,h+1):\n",
        "  print(\"*\"*i)\n",
        "\n",
        "for i in range(1,h+1):\n",
        "  print(\"*\"*h)\n",
        "  h=h-1"
      ],
      "metadata": {
        "colab": {
          "base_uri": "https://localhost:8080/"
        },
        "id": "S3fVWtAyE1tQ",
        "outputId": "592aaada-b224-42a7-fceb-15d1cfff9754"
      },
      "execution_count": null,
      "outputs": [
        {
          "output_type": "stream",
          "name": "stdout",
          "text": [
            "Enter the number of rows:5\n",
            "*\n",
            "**\n",
            "***\n",
            "****\n",
            "*****\n",
            "*****\n",
            "****\n",
            "***\n",
            "**\n",
            "*\n"
          ]
        }
      ]
    }
  ]
}